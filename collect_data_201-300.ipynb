{
 "cells": [
  {
   "cell_type": "code",
   "execution_count": 1,
   "metadata": {},
   "outputs": [],
   "source": [
    "import bs4\n",
    "import requests\n",
    "import pandas as pd"
   ]
  },
  {
   "cell_type": "code",
   "execution_count": 2,
   "metadata": {},
   "outputs": [],
   "source": [
    "def collect_name(init_page,last_page):\n",
    "\n",
    "    df_brand=pd.DataFrame()\n",
    "    df_product=pd.DataFrame()\n",
    "    df_link=pd.DataFrame()\n",
    "    \n",
    "    for num in range(init_page,last_page+1):\n",
    "        link=requests.get('https://www.skincarisma.org/search?category=Face+Skincare&page='+str(num))\n",
    "        html_page = bs4.BeautifulSoup(link.text, 'lxml')\n",
    "        find_data=html_page.find('ul',{'class':'list-unstyled mt-2 mb-0'})\n",
    "\n",
    "    #collect brand\n",
    "        find_name=find_data.find_all('b',{'itemprop':'brand'})\n",
    "        for i in find_name:\n",
    "            name=i.text.strip()\n",
    "            df_brand = df_brand.append({'brand': name}, ignore_index=True)\n",
    "            print('page =',num,'brand =',name)\n",
    "            \n",
    "    #collect product\n",
    "        find_product=find_data.find_all('div',{'itemprop':'name'})\n",
    "        for i in find_product:\n",
    "            name=i.select('p')\n",
    "            name=name[0].text\n",
    "            df_product = df_product.append({'product': name}, ignore_index=True)\n",
    "\n",
    "    #collect link\n",
    "        find_link=find_data.find_all('div',{'class':'d-inline-block image pl-3'})\n",
    "        for i in find_link:\n",
    "            name=i.find('a')['href']\n",
    "            df_link = df_link.append({'link': name}, ignore_index=True)\n",
    "\n",
    "    df=pd.concat([df_brand,df_product,df_link],axis=1)\n",
    "    return df"
   ]
  },
  {
   "cell_type": "code",
   "execution_count": 3,
   "metadata": {},
   "outputs": [],
   "source": [
    "def collect_ing(df):\n",
    "    df_ingredient=pd.DataFrame()\n",
    "    df_category=pd.DataFrame()\n",
    "    ing_tag_per=dict()\n",
    "    ing_cir_per=dict()\n",
    "    ing_ewg_per=dict()\n",
    "    check=[]\n",
    "    index_error=[]\n",
    "\n",
    "    for ind,url in enumerate(df['link']):\n",
    "        print(len(df),':',ind,':',url)\n",
    "        link=requests.get('https://www.skincarisma.org/'+url+'/ingredient_list')\n",
    "        html_page = bs4.BeautifulSoup(link.text, 'lxml')\n",
    "        find_data=html_page.find_all('td',class_=\"align-middle\")\n",
    "        if find_data:          \n",
    "            find_cate=html_page.find_all('div',class_='col-12 mb-2')\n",
    "       #collect type of product \n",
    "            cate=[ind_cate.text for ind_cate in find_cate[0].select('span')]          \n",
    "        \n",
    "            ing_tag_temp=dict()\n",
    "            for i in find_data:\n",
    "                find_cir=i.find_all('div',class_='score-label cir')\n",
    "                find_ewg=i.find_all('div',class_='score-label')\n",
    "        #find cir of each ingredient\n",
    "                if find_cir:\n",
    "                    cir_check=find_cir[0].select('span')\n",
    "                    if cir_check:\n",
    "                        cir=cir_check[0].text\n",
    "                    else:\n",
    "                        cir=''\n",
    "        #find ewg of each ingredient\n",
    "                if '<div class=\"score-label\">' in str(i) or '<div class=\"score-label second\">' in str(i):\n",
    "                    if '<div class=\"score-label second\">' not in str(i):\n",
    "                        ewg_check=find_ewg[0].select('span')\n",
    "                        if ewg_check:\n",
    "                            ewg=ewg_check[0].text\n",
    "                        else:\n",
    "                            ewg=''\n",
    "            #there are 2 ewg, collect the highest ewg value\n",
    "                    else:\n",
    "                        ewg_check=find_ewg[0].select('span')\n",
    "                        if ewg_check:\n",
    "                            ewg_max=list([int(ewg_check[0].text),int(ewg_check[1].text)])\n",
    "                            ewg_max=str(max(ewg_max))\n",
    "                            ewg=ewg_max\n",
    "                        else:\n",
    "                            ewg=''\n",
    "        #find ingredient name\n",
    "                if '<td class=\"align-middle\">' in str(i) and '<br/>' in str(i) and '</span>' not in str(i):\n",
    "                    for j in i:\n",
    "                        if '<' not in str(j) and len(j.strip())>0:\n",
    "                            name=j.strip()\n",
    "                    tag=i.select('small')[0].text.strip()\n",
    "                    tag=tag[1:-1]\n",
    "                    tag=set(tag.split(','))\n",
    "                    ing_tag_temp.update({name:tag})\n",
    "        #collect tag of each ingredient\n",
    "                    ing_tag_per.update({name:tag})\n",
    "        #collect cir of each ingredient (if duplicated, collect more danger level (C>B>A))\n",
    "                    if name in ing_cir_per and ewg!=ing_cir_per.get(name):\n",
    "                        if ewg=='C' or ing_ewg_per.get(name)=='C':\n",
    "                            ing_cir_per.update({name:'C'})\n",
    "                        else:\n",
    "                            if ewg=='B' or ing_ewg_per.get(name)=='B':\n",
    "                                ing_cir_per.update({name:'B'})\n",
    "                            elif ewg=='A' or ing_ewg_per.get(name)=='A':\n",
    "                                ing_cir_per.update({name:'A'})\n",
    "                    else:\n",
    "                        ing_cir_per.update({name:cir})\n",
    "        #collect ewg of each ingredient (if duplicated, collect the highest ewg value)\n",
    "                    if name in ing_ewg_per and ewg!='' and ing_ewg_per.get(name)!='':\n",
    "                        if int(ewg)>int(ing_ewg_per.get(name)):\n",
    "                            ing_ewg_per.update({name:ewg})\n",
    "                        else:\n",
    "                            if ewg!='':               \n",
    "                                ing_ewg_per.update({name:ewg})\n",
    "                    elif name not in ing_ewg_per:\n",
    "                        ing_ewg_per.update({name:ewg})\n",
    "        #collect list of ingredient for each items\n",
    "            ing=set(ing_tag_temp.keys())\n",
    "            df_ingredient = df_ingredient.append({'ingredient': ing}, ignore_index=True)\n",
    "            df_category = df_category.append({'category': cate}, ignore_index=True)\n",
    "            check.append(0)\n",
    "        \n",
    "        else:\n",
    "            df_ingredient = df_ingredient.append({'ingredient': None}, ignore_index=True)\n",
    "            df_category = df_category.append({'category': None}, ignore_index=True)\n",
    "            check.append(1)\n",
    "            index_error.append(ind)\n",
    "                                       \n",
    "    return df_ingredient,df_category,ing_tag_per,ing_cir_per,ing_ewg_per,check,index_error"
   ]
  },
  {
   "cell_type": "code",
   "execution_count": 4,
   "metadata": {},
   "outputs": [],
   "source": [
    "def remove_item(df,ind):\n",
    "    df=df.drop(ind)\n",
    "    return df"
   ]
  },
  {
   "cell_type": "code",
   "execution_count": 5,
   "metadata": {},
   "outputs": [],
   "source": [
    "def create_table(init_page,last_page):\n",
    "    df_product=collect_name(init_page,last_page)\n",
    "    table=collect_ing(df_product)\n",
    "    df_ingredient=table[0]\n",
    "    df_category=table[1]\n",
    "    \n",
    "    if sum(table[5])>0:\n",
    "        for ind_err in table[6]:\n",
    "            df_product=remove_item(df_product,ind_err)\n",
    "            df_ingredient=remove_item(table[0],ind_err)\n",
    "            df_category=remove_item(table[1],ind_err)\n",
    "\n",
    "    df=pd.concat([df_product,df_ingredient,df_category],axis=1)\n",
    "#save product detail to csv file    \n",
    "    df.to_csv('data\\product\\product_'+str(init_page)+'-'+str(last_page)+'.csv', index = None, header=False)\n",
    "    \n",
    "    ing=[]\n",
    "    tag=[]\n",
    "    cir=[]\n",
    "    ewg=[]\n",
    "    for i in table[2]:\n",
    "        ing.append(i)\n",
    "        tag.append(table[2].get(i))\n",
    "        cir.append(table[3].get(i))\n",
    "        ewg.append(table[4].get(i))\n",
    "    ing_table={'ingredient':ing,'tag':tag,'cir':cir,'ewg':ewg}\n",
    "    ing_table=pd.DataFrame(ing_table)\n",
    "    \n",
    "    ing_table.to_csv('data\\ingredient\\ingredient_'+str(init_page)+'-'+str(last_page)+'.csv', index = None, header=False)\n",
    "    return df,ing_table"
   ]
  },
  {
   "cell_type": "code",
   "execution_count": 6,
   "metadata": {},
   "outputs": [],
   "source": [
    "#table=create_table(201,210)\n",
    "#table[0]"
   ]
  },
  {
   "cell_type": "code",
   "execution_count": 7,
   "metadata": {},
   "outputs": [],
   "source": [
    "#table[1]"
   ]
  },
  {
   "cell_type": "code",
   "execution_count": 8,
   "metadata": {},
   "outputs": [],
   "source": [
    "#table=create_table(211,220)\n",
    "#table[0]"
   ]
  },
  {
   "cell_type": "code",
   "execution_count": 9,
   "metadata": {},
   "outputs": [],
   "source": [
    "#table[1]"
   ]
  },
  {
   "cell_type": "code",
   "execution_count": 10,
   "metadata": {},
   "outputs": [],
   "source": [
    "#table=create_table(221,230)\n",
    "#table[0]"
   ]
  },
  {
   "cell_type": "code",
   "execution_count": 11,
   "metadata": {},
   "outputs": [],
   "source": [
    "#table[1]"
   ]
  },
  {
   "cell_type": "code",
   "execution_count": 12,
   "metadata": {},
   "outputs": [],
   "source": [
    "#table=create_table(231,240)\n",
    "#table[0]"
   ]
  },
  {
   "cell_type": "code",
   "execution_count": 13,
   "metadata": {},
   "outputs": [],
   "source": [
    "#table[1]"
   ]
  },
  {
   "cell_type": "code",
   "execution_count": 14,
   "metadata": {},
   "outputs": [],
   "source": [
    "#table=create_table(241,250)\n",
    "#table[0]"
   ]
  },
  {
   "cell_type": "code",
   "execution_count": 15,
   "metadata": {},
   "outputs": [],
   "source": [
    "#table[1]"
   ]
  },
  {
   "cell_type": "code",
   "execution_count": 16,
   "metadata": {},
   "outputs": [],
   "source": [
    "#table=create_table(251,260)\n",
    "#table[0]"
   ]
  },
  {
   "cell_type": "code",
   "execution_count": 17,
   "metadata": {},
   "outputs": [],
   "source": [
    "#table[1]"
   ]
  },
  {
   "cell_type": "code",
   "execution_count": 18,
   "metadata": {},
   "outputs": [],
   "source": [
    "#table=create_table(261,270)\n",
    "#table[0]"
   ]
  },
  {
   "cell_type": "code",
   "execution_count": 19,
   "metadata": {},
   "outputs": [],
   "source": [
    "#table[1]"
   ]
  },
  {
   "cell_type": "code",
   "execution_count": 20,
   "metadata": {},
   "outputs": [],
   "source": [
    "#table=create_table(271,280)\n",
    "#table[0]"
   ]
  },
  {
   "cell_type": "code",
   "execution_count": 21,
   "metadata": {},
   "outputs": [],
   "source": [
    "#table[1]"
   ]
  },
  {
   "cell_type": "code",
   "execution_count": 22,
   "metadata": {},
   "outputs": [],
   "source": [
    "#table=create_table(281,290)\n",
    "#table[0]"
   ]
  },
  {
   "cell_type": "code",
   "execution_count": 23,
   "metadata": {},
   "outputs": [],
   "source": [
    "#table[1]"
   ]
  },
  {
   "cell_type": "code",
   "execution_count": 24,
   "metadata": {},
   "outputs": [],
   "source": [
    "#table=create_table(291,300)\n",
    "#table[0]"
   ]
  },
  {
   "cell_type": "code",
   "execution_count": 25,
   "metadata": {},
   "outputs": [],
   "source": [
    "#table[1]"
   ]
  }
 ],
 "metadata": {
  "kernelspec": {
   "display_name": "Python 3",
   "language": "python",
   "name": "python3"
  },
  "language_info": {
   "codemirror_mode": {
    "name": "ipython",
    "version": 3
   },
   "file_extension": ".py",
   "mimetype": "text/x-python",
   "name": "python",
   "nbconvert_exporter": "python",
   "pygments_lexer": "ipython3",
   "version": "3.8.3"
  }
 },
 "nbformat": 4,
 "nbformat_minor": 4
}
