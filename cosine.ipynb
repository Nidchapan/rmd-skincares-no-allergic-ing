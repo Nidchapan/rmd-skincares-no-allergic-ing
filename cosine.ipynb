{
 "cells": [
  {
   "cell_type": "code",
   "execution_count": 1,
   "metadata": {},
   "outputs": [],
   "source": [
    "import pandas as pd\n",
    "import ast\n",
    "import numpy as np\n",
    "import sklearn.metrics.pairwise\n",
    "import copy"
   ]
  },
  {
   "cell_type": "markdown",
   "metadata": {},
   "source": [
    "# import product and ingredient table"
   ]
  },
  {
   "cell_type": "code",
   "execution_count": 2,
   "metadata": {},
   "outputs": [],
   "source": [
    "#import product data table\n",
    "df_pd = pd.read_csv(\"product_data.csv\")\n",
    "df_ing = pd.read_csv(\"ingredient_data.csv\")"
   ]
  },
  {
   "cell_type": "code",
   "execution_count": 3,
   "metadata": {},
   "outputs": [],
   "source": [
    "#convert ingredient and category columns into list\n",
    "for i in range(len(df_pd)):\n",
    "    df_pd.at[i,'ing_set']=set(ast.literal_eval(df_pd.loc[i,'ing_set']))\n",
    "    df_pd.at[i,'cate']=set(ast.literal_eval(df_pd.loc[i,'cate']))"
   ]
  },
  {
   "cell_type": "code",
   "execution_count": 4,
   "metadata": {},
   "outputs": [],
   "source": [
    "#convert ingredient function columns into list, ewg level into float\n",
    "for i in range(len(df_ing)):\n",
    "    df_ing.at[i,'ing_func']=ast.literal_eval(df_ing.loc[i,'ing_func'])\n",
    "    if str(df_ing.loc[i,'cir'])=='nan':\n",
    "        df_ing.at[i,'cir']=None\n",
    "    if str(df_ing.loc[i,'ewg'])=='nan':\n",
    "        df_ing.at[i,'ewg']=None\n",
    "    else:\n",
    "        df_ing.at[i,'ewg']=float(df_ing.loc[i,'ewg'])"
   ]
  },
  {
   "cell_type": "markdown",
   "metadata": {},
   "source": [
    "# create customer table"
   ]
  },
  {
   "cell_type": "code",
   "execution_count": 5,
   "metadata": {},
   "outputs": [],
   "source": [
    "#create data frame of customer\n",
    "df_customer=pd.DataFrame()\n",
    "#create columns\n",
    "df_customer['name']=None\n",
    "df_customer['rmd']=None\n",
    "df_customer['alg_ind'] = None\n",
    "df_customer['nalg_ind'] = None\n",
    "df_customer['alg_ing'] = None\n",
    "df_customer['nalg_ing'] = None\n",
    "df_customer['cosine']=None"
   ]
  },
  {
   "cell_type": "markdown",
   "metadata": {},
   "source": [
    "# create recommend function"
   ]
  },
  {
   "cell_type": "code",
   "execution_count": 6,
   "metadata": {},
   "outputs": [],
   "source": [
    "#create function that add index to dataframe columns \n",
    "def add_ind_product(name,alg,nalg):\n",
    "    for ind,itm in enumerate(df_customer['name']):\n",
    "        if itm==name:\n",
    "            df_customer['alg_ind'][ind]=alg\n",
    "            df_customer['nalg_ind'][ind]=nalg"
   ]
  },
  {
   "cell_type": "code",
   "execution_count": 7,
   "metadata": {},
   "outputs": [],
   "source": [
    "#create function that collect each ingredient of product\n",
    "def add_ing(name):\n",
    "    alg_set=set()\n",
    "    nalg_set=set()\n",
    "    for ind,itm in enumerate(df_customer['name']):\n",
    "        if itm == name:\n",
    "            name_ind=ind\n",
    "    for alg in df_customer['alg_ind'][name_ind]:\n",
    "        for itm in df_pd['ing_set'][alg]:\n",
    "            for ind,ing in enumerate(df_ing['ing']):\n",
    "                if itm==ing:\n",
    "                    alg_set.add(itm)\n",
    "    df_customer['alg_ing'][name_ind]=alg_set\n",
    "    for nalg in df_customer['nalg_ind'][name_ind]:\n",
    "        for itm in df_pd['ing_set'][nalg]:\n",
    "            for ind,ing in enumerate(df_ing['ing']):\n",
    "                if itm==ing:\n",
    "                    nalg_set.add(itm)\n",
    "    df_customer['nalg_ing'][name_ind]=nalg_set\n",
    "    df_customer['alg_ing'][name_ind]=df_customer['alg_ing'][name_ind]-df_customer['nalg_ing'][name_ind]\n",
    "    \n",
    "    df_customer['alg_ing'][name_ind]=add_ewg(df_customer['alg_ing'][name_ind])\n",
    "    df_customer['nalg_ing'][name_ind]=add_ewg(df_customer['nalg_ing'][name_ind])"
   ]
  },
  {
   "cell_type": "code",
   "execution_count": 8,
   "metadata": {},
   "outputs": [],
   "source": [
    "#create function that collect cir, ewg level, and ingredient function of each ingredient of product\n",
    "def add_ewg(ingredient):\n",
    "    ewg_cir=[]\n",
    "    dict_ing=dict()\n",
    "    for ing in ingredient:\n",
    "        for ind,itm in enumerate(df_ing['ing']):\n",
    "            if itm==ing:\n",
    "                ewg_cir=[int(df_ing['ewg'][ind]),df_ing['cir'][ind],df_ing['ing_func'][ind]]\n",
    "                dict_ing.update({ing:ewg_cir})\n",
    "    return dict_ing"
   ]
  },
  {
   "cell_type": "code",
   "execution_count": 9,
   "metadata": {},
   "outputs": [],
   "source": [
    "def cosine(name_ctm):\n",
    "    name=name_ctm\n",
    "\n",
    "    for ind,itm in enumerate(df_customer['name']):\n",
    "        if itm == name:\n",
    "            name_ind=ind \n",
    "#find category of alergic product \n",
    "    item_type=[]\n",
    "    for ind_alg in df_customer['alg_ind'][name_ind]:\n",
    "        item=set()\n",
    "        for ind_pd,pd in enumerate(df_pd['cate']):\n",
    "            if ind_alg==ind_pd:\n",
    "                item_type_temp=copy.deepcopy(pd)\n",
    "                if 'Face Skincare' in item_type_temp and len(item_type_temp)>1:\n",
    "                    item_type_temp.remove('Face Skincare')\n",
    "                for i in item_type_temp:\n",
    "                    item.add(i)\n",
    "        item_type.append(item)\n",
    "#find index of product that not have alergic ingredient and have same type of alergic product               \n",
    "    list_cosine=[]\n",
    "    for i in range(len(item_type)):\n",
    "        ind_pd_rec=[]\n",
    "        for ty in item_type[i]:\n",
    "            if ty=='Face Skincare':\n",
    "                for ind_pd,pd in enumerate(df_pd['cate']):\n",
    "                    if pd==item_type and bool(df_pd['ing_set'][ind_pd] & set(df_customer['alg_ing'][name_ind].keys()))==False:\n",
    "                        ind_pd_rec.append(ind_pd)\n",
    "            else:             \n",
    "                for ind_pd,pd in enumerate(df_pd['cate']):\n",
    "                    if ty in pd and bool(df_pd['ing_set'][ind_pd] & set(df_customer['alg_ing'][name_ind].keys()))==False:\n",
    "                        ind_pd_rec.append(ind_pd)\n",
    "    \n",
    "        for ind_alg in df_customer['alg_ind'][name_ind]:\n",
    "            dict_cosine=dict()\n",
    "            for ind in ind_pd_rec:\n",
    "                ing_union=df_pd['ing_set'][ind]|df_pd['ing_set'][ind_alg]\n",
    "                vec_a=[]\n",
    "                vec_b=[]\n",
    "                for ing in ing_union:\n",
    "                    if ing in df_pd['ing_set'][ind]:\n",
    "                        vec_a.append(1)\n",
    "                    else:\n",
    "                        vec_a.append(0)\n",
    "                    if ing in df_pd['ing_set'][ind_alg]:\n",
    "                        vec_b.append(1)\n",
    "                    else:\n",
    "                        vec_b.append(0)\n",
    "                cosine=sklearn.metrics.pairwise. cosine_similarity([vec_a],[vec_b])\n",
    "                dict_cosine.update({cosine[0][0]:ind})\n",
    "        list_cosine.append(dict_cosine)\n",
    "    df_customer['cosine'][name_ind]=list_cosine"
   ]
  },
  {
   "cell_type": "code",
   "execution_count": 10,
   "metadata": {},
   "outputs": [],
   "source": [
    "def recommend(name):\n",
    "    add_ing(name)\n",
    "    cosine(name)"
   ]
  },
  {
   "cell_type": "code",
   "execution_count": 11,
   "metadata": {},
   "outputs": [
    {
     "name": "stdout",
     "output_type": "stream",
     "text": [
      "8306 : Cathy Doll : Acne Solution Serum Foam Cleanser\n"
     ]
    }
   ],
   "source": [
    "#find index product\n",
    "for ind,itm in enumerate(df_pd['brand']):\n",
    "    if \"Cathy Doll\".lower() in itm.lower() and 'Acne Solution Serum Foam Cleanser'.lower() in df_pd['product'][ind].lower():\n",
    "        print(ind,':',itm,':',df_pd['product'][ind])"
   ]
  },
  {
   "cell_type": "markdown",
   "metadata": {},
   "source": [
    "# insert information to table"
   ]
  },
  {
   "cell_type": "code",
   "execution_count": 12,
   "metadata": {},
   "outputs": [],
   "source": [
    "#add Mean's information to table\n",
    "df_customer = df_customer.append({'name': 'mean'}, ignore_index=True)\n",
    "add_ind_product('mean',[20740],[1789,281,197,9153,4402,3018,24653])\n",
    "recommend('mean')"
   ]
  },
  {
   "cell_type": "code",
   "execution_count": 13,
   "metadata": {},
   "outputs": [],
   "source": [
    "#add May's information to table \n",
    "df_customer = df_customer.append({'name': 'may'}, ignore_index=True)\n",
    "add_ind_product('may',[3171,18197,3300,12559,22615,3267],[3832,1973,879,15281,13618,10387,1734,8325,62])\n",
    "recommend('may')"
   ]
  },
  {
   "cell_type": "code",
   "execution_count": 14,
   "metadata": {},
   "outputs": [],
   "source": [
    "#add Oly's information to table\n",
    "df_customer = df_customer.append({'name': 'oly'}, ignore_index=True)\n",
    "add_ind_product('oly',[8306],[580,3593,3308,18067,19519])\n",
    "recommend('oly')"
   ]
  },
  {
   "cell_type": "code",
   "execution_count": 15,
   "metadata": {},
   "outputs": [],
   "source": [
    "#add Preaw's information to table\n",
    "df_customer = df_customer.append({'name': 'preaw-1'}, ignore_index=True)\n",
    "add_ind_product('preaw-1',[3267],[27910,23525])\n",
    "recommend('preaw-1')"
   ]
  },
  {
   "cell_type": "code",
   "execution_count": 16,
   "metadata": {},
   "outputs": [],
   "source": [
    "#add Preaw's information to table\n",
    "df_customer = df_customer.append({'name': 'preaw-2'}, ignore_index=True)\n",
    "add_ind_product('preaw-2',[3267],[3333])\n",
    "recommend('preaw-2')"
   ]
  },
  {
   "cell_type": "code",
   "execution_count": 17,
   "metadata": {},
   "outputs": [],
   "source": [
    "#add Oly's information to table\n",
    "df_customer = df_customer.append({'name': 'cinth'}, ignore_index=True)\n",
    "add_ind_product('cinth',[3028],[3220,4451])\n",
    "recommend('cinth')"
   ]
  },
  {
   "cell_type": "code",
   "execution_count": 18,
   "metadata": {},
   "outputs": [],
   "source": [
    "def show_recmd_product(name_ctm):\n",
    "    name=name_ctm\n",
    "    for ind,itm in enumerate(df_customer['name']):\n",
    "        if itm == name:\n",
    "            name_ind=ind\n",
    "    dict_rmd=dict()\n",
    "    for ind,itm in enumerate(df_customer['alg_ind'][name_ind]):\n",
    "        print('คุณแพ้ผลิตภัณฑ์ :',df_pd['brand'][itm],df_pd['product'][itm])\n",
    "        print('ประเภท:',str(df_pd['cate'][itm])[1:-1])\n",
    "        print('เดาว่าคุณแพ้สาร:')\n",
    "        for jnd,jtm in enumerate(df_customer['alg_ing'][name_ind]):\n",
    "            print(jtm,end=', ')\n",
    "            if jnd==2:              \n",
    "                break\n",
    "        num=len(df_customer['alg_ing'][name_ind])\n",
    "        print(f'และสารอื่นๆอีกรวม {num} ชนิด')\n",
    "        len_ing_ctm=len(df_customer['alg_ing'][name_ind])+len(df_customer['nalg_ing'][name_ind])\n",
    "        len_ing_all=len(df_ing['ing'])\n",
    "        preci=len_ing_ctm/len_ing_all\n",
    "        print(f'ด้วยความแม่นยำ {preci*100:.2f} % (มีข้อมูลสาร {len_ing_ctm} ชนิด, จาก {len_ing_all} ชนิด)')\n",
    "        print(f'หมายเหตุ: ยิ่งป้อนข้อมูลประวัติการใช้ผลิตภัณฑ์บำรุงผิวของคุณให้มากขึ้น ยิ่งทำให้ความแม่นยำในการคาดเดามากขึ้น')\n",
    "        \n",
    "        max_list=copy.deepcopy(df_customer['cosine'][name_ind][ind])\n",
    "        while True:\n",
    "            max_cosine=max(max_list)\n",
    "            ind_max=df_customer['cosine'][name_ind][ind].get(max_cosine)\n",
    "            if df_customer['cosine'][name_ind][ind].get(max_cosine) not in df_customer.loc[name_ind,'nalg_ind'] and df_pd['brand'][ind_max] !=df_pd['brand'][itm]:\n",
    "                break\n",
    "            else:\n",
    "                del max_list[max_cosine]\n",
    "        ind_max=df_customer['cosine'][name_ind][ind].get(max_cosine)\n",
    "        dict_rmd.update({itm:ind_max})\n",
    "        print('\\n!!เราขอแนะนำ!! :',df_pd['brand'][ind_max],df_pd['product'][ind_max])\n",
    "        print('ประเภท:',str(df_pd['cate'][ind_max])[1:-1])\n",
    "        print(f'มีความคล้ายผลิตภัณฑ์เดิม {max_cosine*100:.2f} %')\n",
    "        for i in range(2):\n",
    "            del max_list[max_cosine]\n",
    "            max_cosine=max(max_list)\n",
    "            ind_max=df_customer['cosine'][name_ind][ind].get(max_cosine)\n",
    "            print(f'!หรืออันดับ! {i+2} : ',df_pd['brand'][ind_max],df_pd['product'][ind_max],'\\nประเภท:',str(df_pd['cate'][ind_max])[1:-1])\n",
    "            print(f'มีความคล้ายผลิตภัณฑ์เดิม {max_cosine*100:.2f} %')\n",
    "        print('----------------------------------------------------------------\\n\\n')\n",
    "    df_customer.at[name_ind,'rmd']=dict_rmd"
   ]
  },
  {
   "cell_type": "code",
   "execution_count": 22,
   "metadata": {
    "scrolled": true
   },
   "outputs": [
    {
     "name": "stdout",
     "output_type": "stream",
     "text": [
      "คุณแพ้ผลิตภัณฑ์ : Burt's Bees Replenishing Lip Balm With Pomegranate Oil\n",
      "ประเภท: 'Lip Balms', 'Face Skincare', 'Lip Care'\n",
      "เดาว่าคุณแพ้สาร:\n",
      "Eugenol, Cinnamal, Carmine, และสารอื่นๆอีกรวม 9 ชนิด\n",
      "ด้วยความแม่นยำ 2.20 % (มีข้อมูลสาร 106 ชนิด, จาก 4813 ชนิด)\n",
      "หมายเหตุ: ยิ่งป้อนข้อมูลประวัติการใช้ผลิตภัณฑ์บำรุงผิวของคุณให้มากขึ้น ยิ่งทำให้ความแม่นยำในการคาดเดามากขึ้น\n",
      "\n",
      "!!เราขอแนะนำ!! : Urban Decay Rehab Makeup Prep Lip Love\n",
      "ประเภท: 'Face Skincare', 'Lip Care', 'Lip Scrubs'\n",
      "มีความคล้ายผลิตภัณฑ์เดิม 46.19 %\n",
      "!หรืออันดับ! 2 :  Kiss My Face Organic Ginger Mango Lip Balm \n",
      "ประเภท: 'Lip Balms', 'Face Skincare', 'Lip Care'\n",
      "มีความคล้ายผลิตภัณฑ์เดิม 39.53 %\n",
      "!หรืออันดับ! 3 :  Kiss My Face Organic Cranberry Orange Lip Balm \n",
      "ประเภท: 'Lip Balms', 'Face Skincare', 'Lip Care'\n",
      "มีความคล้ายผลิตภัณฑ์เดิม 37.27 %\n",
      "----------------------------------------------------------------\n",
      "\n",
      "\n"
     ]
    }
   ],
   "source": [
    "show_recmd_product('mean')\n",
    "#show_recmd_product('may')\n",
    "#show_recmd_product('oly')\n",
    "#show_recmd_product('preaw-1')\n",
    "#show_recmd_product('preaw-2')\n",
    "#show_recmd_product('cinth')"
   ]
  },
  {
   "cell_type": "code",
   "execution_count": 20,
   "metadata": {},
   "outputs": [
    {
     "data": {
      "text/html": [
       "<div>\n",
       "<style scoped>\n",
       "    .dataframe tbody tr th:only-of-type {\n",
       "        vertical-align: middle;\n",
       "    }\n",
       "\n",
       "    .dataframe tbody tr th {\n",
       "        vertical-align: top;\n",
       "    }\n",
       "\n",
       "    .dataframe thead th {\n",
       "        text-align: right;\n",
       "    }\n",
       "</style>\n",
       "<table border=\"1\" class=\"dataframe\">\n",
       "  <thead>\n",
       "    <tr style=\"text-align: right;\">\n",
       "      <th></th>\n",
       "      <th>name</th>\n",
       "      <th>rmd</th>\n",
       "      <th>alg_ind</th>\n",
       "      <th>nalg_ind</th>\n",
       "      <th>alg_ing</th>\n",
       "      <th>nalg_ing</th>\n",
       "      <th>cosine</th>\n",
       "    </tr>\n",
       "  </thead>\n",
       "  <tbody>\n",
       "    <tr>\n",
       "      <th>0</th>\n",
       "      <td>mean</td>\n",
       "      <td>{20740: 8281}</td>\n",
       "      <td>[20740]</td>\n",
       "      <td>[1789, 281, 197, 9153, 4402, 3018, 24653]</td>\n",
       "      <td>{'Eugenol': [7, None, ['Denaturant', 'Fragranc...</td>\n",
       "      <td>{'Water': [1, None, ['Solvent']], 'Butyrosperm...</td>\n",
       "      <td>[{0.043852900965351466: 25124, 0.2236067977499...</td>\n",
       "    </tr>\n",
       "    <tr>\n",
       "      <th>1</th>\n",
       "      <td>may</td>\n",
       "      <td>{3171: 19687, 18197: 12196, 3300: 12196, 12559...</td>\n",
       "      <td>[3171, 18197, 3300, 12559, 22615, 3267]</td>\n",
       "      <td>[3832, 1973, 879, 15281, 13618, 10387, 1734, 8...</td>\n",
       "      <td>{'Hamamelis Virginiana (Witch Hazel) Extract':...</td>\n",
       "      <td>{'Rehmannia Glutinosa Root Extract': [1, None,...</td>\n",
       "      <td>[{0.1283881477532739: 28853, 0.206196524710580...</td>\n",
       "    </tr>\n",
       "    <tr>\n",
       "      <th>2</th>\n",
       "      <td>oly</td>\n",
       "      <td>{8306: 8779}</td>\n",
       "      <td>[8306]</td>\n",
       "      <td>[580, 3593, 3308, 18067, 19519]</td>\n",
       "      <td>{'Pyrus Malus (Apple) Fruit Extract': [1, None...</td>\n",
       "      <td>{'Water': [1, None, ['Solvent']], 'Hydrolyzed ...</td>\n",
       "      <td>[{0.11322770341445959: 29477, 0.09622504486493...</td>\n",
       "    </tr>\n",
       "    <tr>\n",
       "      <th>3</th>\n",
       "      <td>preaw-1</td>\n",
       "      <td>{3267: 17739}</td>\n",
       "      <td>[3267]</td>\n",
       "      <td>[27910, 23525]</td>\n",
       "      <td>{'C13-14 Isoparaffin': [1, 'B', ['Emollient', ...</td>\n",
       "      <td>{'Ethylparaben': [4, 'A', ['Fragrance', 'Prese...</td>\n",
       "      <td>[{0.1286978904175574: 23592, 0.116642368703960...</td>\n",
       "    </tr>\n",
       "    <tr>\n",
       "      <th>4</th>\n",
       "      <td>preaw-2</td>\n",
       "      <td>{3267: 19725}</td>\n",
       "      <td>[3267]</td>\n",
       "      <td>[3333]</td>\n",
       "      <td>{'Titanium Dioxide': [3, None, ['Cosmetic Colo...</td>\n",
       "      <td>{'Ethylparaben': [4, 'A', ['Fragrance', 'Prese...</td>\n",
       "      <td>[{0.06734350297014739: 22037, 0.11461365101225...</td>\n",
       "    </tr>\n",
       "    <tr>\n",
       "      <th>5</th>\n",
       "      <td>cinth</td>\n",
       "      <td>{3028: 16311}</td>\n",
       "      <td>[3028]</td>\n",
       "      <td>[3220, 4451]</td>\n",
       "      <td>{'Hydroxyethyl Acrylate/Sodium Acryloyldimethy...</td>\n",
       "      <td>{'Water': [1, None, ['Solvent']], 'Butyrosperm...</td>\n",
       "      <td>[{0.05976143046671968: 28072, 0.0: 29749, 0.05...</td>\n",
       "    </tr>\n",
       "  </tbody>\n",
       "</table>\n",
       "</div>"
      ],
      "text/plain": [
       "      name                                                rmd  \\\n",
       "0     mean                                      {20740: 8281}   \n",
       "1      may  {3171: 19687, 18197: 12196, 3300: 12196, 12559...   \n",
       "2      oly                                       {8306: 8779}   \n",
       "3  preaw-1                                      {3267: 17739}   \n",
       "4  preaw-2                                      {3267: 19725}   \n",
       "5    cinth                                      {3028: 16311}   \n",
       "\n",
       "                                   alg_ind  \\\n",
       "0                                  [20740]   \n",
       "1  [3171, 18197, 3300, 12559, 22615, 3267]   \n",
       "2                                   [8306]   \n",
       "3                                   [3267]   \n",
       "4                                   [3267]   \n",
       "5                                   [3028]   \n",
       "\n",
       "                                            nalg_ind  \\\n",
       "0          [1789, 281, 197, 9153, 4402, 3018, 24653]   \n",
       "1  [3832, 1973, 879, 15281, 13618, 10387, 1734, 8...   \n",
       "2                    [580, 3593, 3308, 18067, 19519]   \n",
       "3                                     [27910, 23525]   \n",
       "4                                             [3333]   \n",
       "5                                       [3220, 4451]   \n",
       "\n",
       "                                             alg_ing  \\\n",
       "0  {'Eugenol': [7, None, ['Denaturant', 'Fragranc...   \n",
       "1  {'Hamamelis Virginiana (Witch Hazel) Extract':...   \n",
       "2  {'Pyrus Malus (Apple) Fruit Extract': [1, None...   \n",
       "3  {'C13-14 Isoparaffin': [1, 'B', ['Emollient', ...   \n",
       "4  {'Titanium Dioxide': [3, None, ['Cosmetic Colo...   \n",
       "5  {'Hydroxyethyl Acrylate/Sodium Acryloyldimethy...   \n",
       "\n",
       "                                            nalg_ing  \\\n",
       "0  {'Water': [1, None, ['Solvent']], 'Butyrosperm...   \n",
       "1  {'Rehmannia Glutinosa Root Extract': [1, None,...   \n",
       "2  {'Water': [1, None, ['Solvent']], 'Hydrolyzed ...   \n",
       "3  {'Ethylparaben': [4, 'A', ['Fragrance', 'Prese...   \n",
       "4  {'Ethylparaben': [4, 'A', ['Fragrance', 'Prese...   \n",
       "5  {'Water': [1, None, ['Solvent']], 'Butyrosperm...   \n",
       "\n",
       "                                              cosine  \n",
       "0  [{0.043852900965351466: 25124, 0.2236067977499...  \n",
       "1  [{0.1283881477532739: 28853, 0.206196524710580...  \n",
       "2  [{0.11322770341445959: 29477, 0.09622504486493...  \n",
       "3  [{0.1286978904175574: 23592, 0.116642368703960...  \n",
       "4  [{0.06734350297014739: 22037, 0.11461365101225...  \n",
       "5  [{0.05976143046671968: 28072, 0.0: 29749, 0.05...  "
      ]
     },
     "execution_count": 20,
     "metadata": {},
     "output_type": "execute_result"
    }
   ],
   "source": [
    "df_customer"
   ]
  },
  {
   "cell_type": "code",
   "execution_count": 21,
   "metadata": {},
   "outputs": [],
   "source": [
    "#df_customer.to_csv('customer.csv', index = False, header=True)"
   ]
  }
 ],
 "metadata": {
  "kernelspec": {
   "display_name": "Python 3",
   "language": "python",
   "name": "python3"
  },
  "language_info": {
   "codemirror_mode": {
    "name": "ipython",
    "version": 3
   },
   "file_extension": ".py",
   "mimetype": "text/x-python",
   "name": "python",
   "nbconvert_exporter": "python",
   "pygments_lexer": "ipython3",
   "version": "3.8.3"
  }
 },
 "nbformat": 4,
 "nbformat_minor": 4
}
